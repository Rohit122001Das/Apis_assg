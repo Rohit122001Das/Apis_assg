{
 "cells": [
  {
   "cell_type": "markdown",
   "id": "99c9a831-fcd1-4e17-ad9d-c30411a76d56",
   "metadata": {},
   "source": [
    "Q1. What is an API? Give an example, where an API is used in real life.\n",
    "\n",
    "Ans > API stands for application programming interface, which is a set of \n",
    "      definitions and protocols for building and integrating application software.\n",
    "     Ex: Twitter Bots,\n",
    "         Log-In Using XYZ,\n",
    "         Weather Snippers,\n",
    "         Pay with PayPal,\n",
    "         Google Maps"
   ]
  },
  {
   "cell_type": "markdown",
   "id": "e6fdf6f7-8656-4d4c-baa5-21f66b0ddff5",
   "metadata": {},
   "source": [
    "Q2. Give advantages and disadvantages of using API.\n",
    "\n",
    "Ans > 1.> Automation :\n",
    "     When using an API managed by computers, less human effort is required and workflows can be      easily updated to become faster and more productive. Furthermore, new content and                information can be published and shared with your entire audience quickly and efficiently        across all channels. \n",
    "\n",
    " 2.>Developer efficiency and innovation :\n",
    "         APIs empower developers to be more productive by reusing code in complex but repetitive processes. They don’t need                  to start from scratch as the API specifies how to assemble software components in a program. APIs exist to make it                  easy to interface with other developers' applications.\n",
    "\n",
    " 3.> Improved value proposition :\n",
    "              By using APIs made available by companies such as Amazon, Salesforce, or Twitter, an application can integrate those               services into their own systems to make themselves more attractive to customers."
   ]
  },
  {
   "cell_type": "code",
   "execution_count": null,
   "id": "642470fa-28a8-4ef5-8c97-2beff9e31a29",
   "metadata": {},
   "outputs": [],
   "source": [
    "Q3. What is a Web API? Differentiate between API and Web API.\n",
    "\n",
    "Ans > A Web API is an application programming interface for the Web\n",
    "\n",
    "\n",
    "             Web Serviced\t                                                   API\n",
    "    All web services are APIs.\t                                      All APIs are not web services.\n",
    "    It supports XML.\t                                              Responses are formatted using Web API’s MediaTypeFormatter into \n",
    "                                                                      XML, JSON, or any other given format.\n",
    "    \n",
    "   You need a SOAP protocol to send or receive and                    API has a light-weight architecture.\n",
    "   data over the network. Therefore it does not have\n",
    "   light-weight architecture.\n",
    "\n",
    "   It can be used by any client who understands XML.\t              It can be used by a client who understands JSON or XML.\n",
    "   Web service uses three styles: REST, SOAP, and XML-RPC \n",
    "  for communication.\n",
    "    \n",
    "  It provides supports only for the HTTP protocol.\t                  It provides support for the HTTP/s protocol: URL Request/Response\n",
    "                                                                      Headers, etc."
   ]
  },
  {
   "cell_type": "code",
   "execution_count": null,
   "id": "9a439a0b-7f7d-4797-b0d2-5d4a2f732103",
   "metadata": {},
   "outputs": [],
   "source": [
    "Q4. Explain REST and SOAP Architecture. Mention shortcomings of SOAP.\n",
    " \n",
    "Ans> REST architecture:\n",
    "         REST, or REpresentational State Transfer, is an architectural style for providing standards between\n",
    "         computer systems on the web, making it easier for systems to communicate with each other.\n",
    "\n",
    "\n",
    "    SOAP Architecture: \n",
    "        The SOAP web services architecture is based on interactions between three components: a service provider,\n",
    "        a service requester, and an optional service registry\n",
    "        \n",
    "        \n",
    "        \n",
    "    Shortcomings of SOAP : \n",
    "        Poorer performance, more complexity, less flexibility.\n",
    "\n"
   ]
  },
  {
   "cell_type": "code",
   "execution_count": null,
   "id": "1871c6cc-e61b-45be-ace2-023a27c0a8a7",
   "metadata": {},
   "outputs": [],
   "source": [
    "Q5. Differentiate between REST and SOAP.\n",
    "\n",
    "Ans >      \n",
    "              SOAP API                                            SOAP \n",
    "                                                                        \n",
    "Relies on SOAP (Simple Object Access Protocol)          Relies on REST (Representational State Transfer) architecture using HTTP.\n",
    "                                 \t\n",
    "Transports data in standard XML format.\tGenerally        It is based on URI. Because REST follows stateless model, REST does not \n",
    "transports data in JSON.                                 enforces message format as XML or JSON etc.\n",
    "\n",
    "Because it is XML based and relies on SOAP,              It works with GET, POST, PUT, DELETE\n",
    "it works with WSDL\t\n",
    "\n",
    "Works over HTTP, HTTPS, SMTP, XMPP\n",
    "                                                         Works over HTTP and HTTPS\n",
    "Highly structured/typed\tLess structured -> less bulky data\n",
    "Designed with large enterprise applications in mind\tDesigned with mobile devices in mind"
   ]
  },
  {
   "cell_type": "code",
   "execution_count": null,
   "id": "39f59b13-f744-4ce2-9f41-3a3a9a9139a1",
   "metadata": {},
   "outputs": [],
   "source": []
  },
  {
   "cell_type": "code",
   "execution_count": null,
   "id": "c1cad8d5-423e-4a89-ac8d-961872b79ece",
   "metadata": {},
   "outputs": [],
   "source": []
  },
  {
   "cell_type": "code",
   "execution_count": null,
   "id": "91ba58de-3790-4489-b331-126965f8091c",
   "metadata": {},
   "outputs": [],
   "source": []
  },
  {
   "cell_type": "code",
   "execution_count": null,
   "id": "0bdb876c-f8bf-4ce7-923f-49875ba59ab6",
   "metadata": {},
   "outputs": [],
   "source": []
  },
  {
   "cell_type": "code",
   "execution_count": null,
   "id": "7d9734f9-f674-43dd-9668-d6094d743701",
   "metadata": {},
   "outputs": [],
   "source": []
  },
  {
   "cell_type": "code",
   "execution_count": null,
   "id": "d28b4099-aee2-479a-857b-6b9fd9c1490b",
   "metadata": {},
   "outputs": [],
   "source": []
  },
  {
   "cell_type": "code",
   "execution_count": null,
   "id": "e4d780b7-0913-445f-80f0-1262851b9ed2",
   "metadata": {},
   "outputs": [],
   "source": []
  },
  {
   "cell_type": "code",
   "execution_count": null,
   "id": "0fcecd3f-fc2e-4b95-8fc1-0b91f1917f00",
   "metadata": {},
   "outputs": [],
   "source": []
  }
 ],
 "metadata": {
  "kernelspec": {
   "display_name": "Python 3 (ipykernel)",
   "language": "python",
   "name": "python3"
  },
  "language_info": {
   "codemirror_mode": {
    "name": "ipython",
    "version": 3
   },
   "file_extension": ".py",
   "mimetype": "text/x-python",
   "name": "python",
   "nbconvert_exporter": "python",
   "pygments_lexer": "ipython3",
   "version": "3.10.6"
  }
 },
 "nbformat": 4,
 "nbformat_minor": 5
}
